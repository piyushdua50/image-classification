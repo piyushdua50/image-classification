{
 "cells": [
  {
   "cell_type": "code",
   "execution_count": 1,
   "metadata": {},
   "outputs": [
    {
     "name": "stderr",
     "output_type": "stream",
     "text": [
      "Using TensorFlow backend.\n"
     ]
    }
   ],
   "source": [
    "# Building the CNN to classify whether a image is of Dog or Cat\n",
    "\n",
    "# Importing the Keras libraries and packages\n",
    "from keras.models import Sequential\n",
    "from keras.layers import Conv2D\n",
    "from keras.layers import MaxPooling2D\n",
    "from keras.layers import Flatten\n",
    "from keras.layers import Dense"
   ]
  },
  {
   "cell_type": "code",
   "execution_count": 2,
   "metadata": {},
   "outputs": [],
   "source": [
    "# Initialising the CNN\n",
    "classifier = Sequential()"
   ]
  },
  {
   "cell_type": "code",
   "execution_count": 3,
   "metadata": {},
   "outputs": [],
   "source": [
    "## CNN Model Steps\n",
    "\n",
    "# Step-1. Convolution\n",
    "# Step-2. Max Pooling\n",
    "# Step-3. Flattening\n",
    "# Step-4. Full Connection"
   ]
  },
  {
   "cell_type": "code",
   "execution_count": 4,
   "metadata": {},
   "outputs": [],
   "source": [
    "# Step 1 - Convolution - It is done to extract features by applying Filters.\n",
    "classifier.add(Conv2D(32, (3, 3), input_shape = (64, 64, 3), activation = 'relu'))\n",
    "\n",
    "# '32' represents that we are using 32 Feature Map which is of size (3 * 3).\n",
    "# input_shape = (64, 64, 3) represents that we are using the Input Image of size (64, 64) pixels and 3 shows that we are \n",
    "# using the Coloured Image as Data.\n",
    "# Activation function represents that we are using the 'relu' Activation Function."
   ]
  },
  {
   "cell_type": "code",
   "execution_count": 5,
   "metadata": {},
   "outputs": [],
   "source": [
    "# Step 2 - Pooling  - It is done to reduce the number of nuerons in the Flattening Step.\n",
    "classifier.add(MaxPooling2D(pool_size = (2, 2)))\n",
    "\n",
    "# pool_size = (2, 2) represents that we are using the (2, 2) matrix to pool the Data."
   ]
  },
  {
   "cell_type": "code",
   "execution_count": 6,
   "metadata": {},
   "outputs": [],
   "source": [
    "# Adding a Second Convolutional layer\n",
    "classifier.add(Conv2D(32, (3, 3), activation = 'relu'))\n",
    "classifier.add(MaxPooling2D(pool_size = (2, 2)))\n",
    "\n",
    "# We do not need to specify the input_shape in the second Convolution Layer. "
   ]
  },
  {
   "cell_type": "code",
   "execution_count": 7,
   "metadata": {},
   "outputs": [],
   "source": [
    "# Step 3 - Flattening  - It is done to convert the Pooled Feature Map (2-D) into 1-D Input Array\n",
    "classifier.add(Flatten())"
   ]
  },
  {
   "cell_type": "code",
   "execution_count": 8,
   "metadata": {},
   "outputs": [],
   "source": [
    "# Step 4 - Full connection - It is building the simple ANN with the 1-D Feature Input (Get from Step-3).\n",
    "\n",
    "# Adding a Hidden Layer in the CNN.\n",
    "classifier.add(Dense(units = 128, activation = 'relu'))\n",
    "\n",
    "# Adding a Output Layer in the CNN.\n",
    "classifier.add(Dense(units = 1, activation = 'sigmoid'))\n",
    "\n",
    "# units = 128 is the number of Nuerons in the Hidden Layer.\n",
    "# units = 1 is the number of Nuerons in the Output Layer."
   ]
  },
  {
   "cell_type": "code",
   "execution_count": 9,
   "metadata": {},
   "outputs": [],
   "source": [
    "# Compiling the CNN\n",
    "classifier.compile(optimizer = 'adam', loss = 'binary_crossentropy', metrics = ['accuracy'])\n",
    "\n",
    "# optimizer = 'adam' for Stochastic Gradient Descent.\n",
    "# loss = 'binary_crossentropy' for binary classification that is Dog and Cat.\n",
    "# metrics = ['accuracy'] for getting the Accuracy metric."
   ]
  },
  {
   "cell_type": "code",
   "execution_count": 10,
   "metadata": {},
   "outputs": [],
   "source": [
    "# Data Augementation - Data Augementation is used to generate more images with a single image by applying the Transformation \n",
    "# like Rotation, Shearing, Flipping, Zooming etc. \n",
    "# It is done using the ImageGenerator Library of keras.  "
   ]
  },
  {
   "cell_type": "code",
   "execution_count": 11,
   "metadata": {},
   "outputs": [],
   "source": [
    "# Apply the ImageGenerator on the Image\n",
    "from keras.preprocessing.image import ImageDataGenerator\n",
    "\n",
    "train_datagen = ImageDataGenerator(rescale = 1./255,\n",
    "                                   shear_range = 0.2,\n",
    "                                   zoom_range = 0.2,\n",
    "                                   horizontal_flip = True)\n",
    "\n",
    "test_datagen = ImageDataGenerator(rescale = 1./255)\n",
    "\n",
    "# (rescale = 1./255) is to transform every pixel value from range [0,255] to [0,1].\n",
    "# (shear_range = 0.2) is the transformation which changes the shape of Image. The sliding of layers of Image occur \n",
    "# by 0.2 factor.\n",
    "# (zoom_range = 0.2) is the transformation which change the size of image by 0.2 factor.\n",
    "# (horizontal_flip = True) is the flipping of Image in the horizontal direction. "
   ]
  },
  {
   "cell_type": "code",
   "execution_count": 12,
   "metadata": {},
   "outputs": [
    {
     "data": {
      "text/plain": [
       "<keras.preprocessing.image.ImageDataGenerator at 0x1a9edab6c48>"
      ]
     },
     "execution_count": 12,
     "metadata": {},
     "output_type": "execute_result"
    }
   ],
   "source": [
    "train_datagen"
   ]
  },
  {
   "cell_type": "code",
   "execution_count": 13,
   "metadata": {},
   "outputs": [
    {
     "name": "stdout",
     "output_type": "stream",
     "text": [
      "Found 8000 images belonging to 2 classes.\n",
      "Found 2000 images belonging to 2 classes.\n"
     ]
    }
   ],
   "source": [
    "# Getting the Data image from the directory.\n",
    "training_set = train_datagen.flow_from_directory('dataset/training_set',\n",
    "                                                 target_size = (64, 64),\n",
    "                                                 batch_size = 32,\n",
    "                                                 color_mode = 'rgb'\n",
    "                                                 class_mode = 'binary')\n",
    "\n",
    "test_set = test_datagen.flow_from_directory('dataset/test_set',\n",
    "                                            target_size = (64, 64),\n",
    "                                            batch_size = 32,\n",
    "                                            color_mode = 'rgb'\n",
    "                                            class_mode = 'binary')\n",
    "\n",
    "# 'dataset/training_set' is the Directory path of the training data or test_data.\n",
    "# target_size = (64, 64) is the size of image we want to take as we take in the Convolution step.\n",
    "# batch_size = 32 means we have considered the batch size of 32 images at a time.\n",
    "# class_mode = 'binary' is that we are classifying into 2 categories that is Cat and Dog.\n",
    "# color_mode = 'rgb' that is for coloured images and for greyscale it is 'greyscale'."
   ]
  },
  {
   "cell_type": "code",
   "execution_count": 14,
   "metadata": {},
   "outputs": [
    {
     "data": {
      "text/plain": [
       "<keras.preprocessing.image.DirectoryIterator at 0x1a9edac49c8>"
      ]
     },
     "execution_count": 14,
     "metadata": {},
     "output_type": "execute_result"
    }
   ],
   "source": [
    "# Getting the Training_Set\n",
    "training_set"
   ]
  },
  {
   "cell_type": "code",
   "execution_count": 15,
   "metadata": {},
   "outputs": [
    {
     "data": {
      "text/plain": [
       "<keras.preprocessing.image.DirectoryIterator at 0x1a9dd254948>"
      ]
     },
     "execution_count": 15,
     "metadata": {},
     "output_type": "execute_result"
    }
   ],
   "source": [
    "# Getting the Test_Set\n",
    "test_set"
   ]
  },
  {
   "cell_type": "code",
   "execution_count": 16,
   "metadata": {},
   "outputs": [
    {
     "name": "stdout",
     "output_type": "stream",
     "text": [
      "Epoch 1/5\n",
      "8000/8000 [==============================] - 3654s 457ms/step - loss: 0.3564 - accuracy: 0.8339 - val_loss: 1.0290 - val_accuracy: 0.7955\n",
      "Epoch 2/5\n",
      "8000/8000 [==============================] - 1640s 205ms/step - loss: 0.1111 - accuracy: 0.9572 - val_loss: 0.4714 - val_accuracy: 0.7959\n",
      "Epoch 3/5\n",
      "8000/8000 [==============================] - 1421s 178ms/step - loss: 0.0528 - accuracy: 0.9810 - val_loss: 0.6591 - val_accuracy: 0.7987\n",
      "Epoch 4/5\n",
      "8000/8000 [==============================] - 3816s 477ms/step - loss: 0.0373 - accuracy: 0.9870 - val_loss: 0.9124 - val_accuracy: 0.7993\n",
      "Epoch 5/5\n",
      "8000/8000 [==============================] - 4666s 583ms/step - loss: 0.0310 - accuracy: 0.9896 - val_loss: 1.5500 - val_accuracy: 0.7940\n"
     ]
    },
    {
     "data": {
      "text/plain": [
       "<keras.callbacks.callbacks.History at 0x27754ccaf88>"
      ]
     },
     "execution_count": 16,
     "metadata": {},
     "output_type": "execute_result"
    }
   ],
   "source": [
    "# Fitting the CNN to the images\n",
    "classifier.fit_generator(training_set,\n",
    "                         steps_per_epoch = 8000,\n",
    "                         epochs = 5,\n",
    "                         validation_data = test_set,\n",
    "                         validation_steps = 2000)\n",
    "\n",
    "# (training_set) is the set of train Data on which we are training our model.\n",
    "# (steps_per_epoch = 8000) is the number of images processed in 1 epoch.\n",
    "# (epochs = 15) is the Number of epochs to be performed.\n",
    "# (validation_data = test_set) is the set of test Data on which we are testing our Model.\n",
    "# (validation_steps = 2000) is the number of images in the test_set."
   ]
  },
  {
   "cell_type": "code",
   "execution_count": 17,
   "metadata": {},
   "outputs": [],
   "source": [
    "# loss - 0.0310 - accuracy: 0.9896 - val_loss: 1.5500 - val_accuracy: 0.7940\n",
    "\n",
    "# Accuracy on the Training Set is 98.96\n",
    "# Accuracy on the Testing Set is 79.40"
   ]
  },
  {
   "cell_type": "code",
   "execution_count": 18,
   "metadata": {},
   "outputs": [
    {
     "name": "stdout",
     "output_type": "stream",
     "text": [
      "Saved model to disk\n"
     ]
    }
   ],
   "source": [
    "# Save Model on the Disk\n",
    "\n",
    "# serialize model to JSON\n",
    "classifier_json = classifier.to_json()\n",
    "with open('classifier.json', 'w') as json_file:\n",
    "    json_file.write(classifier_json)\n",
    "# serialize weights to HDF5\n",
    "classifier.save_weights(\"classifier.h5\")\n",
    "print(\"Saved model to disk\")"
   ]
  },
  {
   "cell_type": "code",
   "execution_count": 16,
   "metadata": {},
   "outputs": [
    {
     "name": "stdout",
     "output_type": "stream",
     "text": [
      "Loaded model from disk\n"
     ]
    }
   ],
   "source": [
    "# Retrieving the Saved Model\n",
    "from keras.models import model_from_json\n",
    "\n",
    "# load json and create model\n",
    "json_file = open('classifier.json', 'r')\n",
    "loaded_model_json = json_file.read()\n",
    "json_file.close()\n",
    "classifier = model_from_json(loaded_model_json)\n",
    "# load weights into new model\n",
    "classifier.load_weights(\"classifier.h5\")\n",
    "print(\"Loaded model from disk\")"
   ]
  },
  {
   "cell_type": "code",
   "execution_count": 18,
   "metadata": {},
   "outputs": [
    {
     "data": {
      "image/png": "[encoded data removed]",
      "text/plain": [
       "<Figure size 432x288 with 1 Axes>"
      ]
     },
     "metadata": {
      "needs_background": "light"
     },
     "output_type": "display_data"
    }
   ],
   "source": [
    "# Making a new Single prediction\n",
    "import numpy as np\n",
    "from keras.preprocessing import image\n",
    "import matplotlib.pyplot as plt\n",
    "\n",
    "test_image = image.load_img('dataset/single_prediction/Image1.jpg', target_size = (64, 64))\n",
    "\n",
    "plt.show(plt.imshow(test_image))\n",
    "\n",
    "# load_img(path) is used to load a image on that particular path"
   ]
  },
  {
   "cell_type": "code",
   "execution_count": 19,
   "metadata": {},
   "outputs": [
    {
     "name": "stdout",
     "output_type": "stream",
     "text": [
      "(64, 64, 3) -----------> [[[ 54.  58.   7.]\n",
      "  [ 58.  63.   9.]\n",
      "  [ 64.  67.  10.]\n",
      "  ...\n",
      "  [136. 144.  71.]\n",
      "  [140. 150.  77.]\n",
      "  [139. 149.  78.]]\n",
      "\n",
      " [[ 48.  54.   6.]\n",
      "  [ 51.  58.   7.]\n",
      "  [ 58.  63.   9.]\n",
      "  ...\n",
      "  [129. 137.  64.]\n",
      "  [139. 149.  78.]\n",
      "  [141. 151.  80.]]\n",
      "\n",
      " [[ 48.  56.   7.]\n",
      "  [ 48.  56.   7.]\n",
      "  [ 54.  61.  10.]\n",
      "  ...\n",
      "  [123. 130.  63.]\n",
      "  [136. 145.  80.]\n",
      "  [140. 149.  82.]]\n",
      "\n",
      " ...\n",
      "\n",
      " [[ 46.  55.  12.]\n",
      "  [ 42.  50.   9.]\n",
      "  [ 38.  49.   9.]\n",
      "  ...\n",
      "  [239. 205. 170.]\n",
      "  [235. 209. 186.]\n",
      "  [229. 202. 173.]]\n",
      "\n",
      " [[ 50.  57.  15.]\n",
      "  [ 42.  50.   9.]\n",
      "  [ 44.  52.  11.]\n",
      "  ...\n",
      "  [234. 200. 162.]\n",
      "  [236. 206. 178.]\n",
      "  [234. 203. 174.]]\n",
      "\n",
      " [[ 53.  59.  13.]\n",
      "  [ 43.  51.  10.]\n",
      "  [ 49.  56.  12.]\n",
      "  ...\n",
      "  [231. 195. 159.]\n",
      "  [235. 213. 190.]\n",
      "  [233. 206. 179.]]]\n"
     ]
    }
   ],
   "source": [
    "test_image = image.img_to_array(test_image)    # This is a Numpy array with shape (64, 64, 3).\n",
    "\n",
    "print(test_image.shape, \"----------->\", test_image)"
   ]
  },
  {
   "cell_type": "code",
   "execution_count": 20,
   "metadata": {},
   "outputs": [
    {
     "name": "stdout",
     "output_type": "stream",
     "text": [
      "(1, 64, 64, 3) ------- [[[[ 54.  58.   7.]\n",
      "   [ 58.  63.   9.]\n",
      "   [ 64.  67.  10.]\n",
      "   ...\n",
      "   [136. 144.  71.]\n",
      "   [140. 150.  77.]\n",
      "   [139. 149.  78.]]\n",
      "\n",
      "  [[ 48.  54.   6.]\n",
      "   [ 51.  58.   7.]\n",
      "   [ 58.  63.   9.]\n",
      "   ...\n",
      "   [129. 137.  64.]\n",
      "   [139. 149.  78.]\n",
      "   [141. 151.  80.]]\n",
      "\n",
      "  [[ 48.  56.   7.]\n",
      "   [ 48.  56.   7.]\n",
      "   [ 54.  61.  10.]\n",
      "   ...\n",
      "   [123. 130.  63.]\n",
      "   [136. 145.  80.]\n",
      "   [140. 149.  82.]]\n",
      "\n",
      "  ...\n",
      "\n",
      "  [[ 46.  55.  12.]\n",
      "   [ 42.  50.   9.]\n",
      "   [ 38.  49.   9.]\n",
      "   ...\n",
      "   [239. 205. 170.]\n",
      "   [235. 209. 186.]\n",
      "   [229. 202. 173.]]\n",
      "\n",
      "  [[ 50.  57.  15.]\n",
      "   [ 42.  50.   9.]\n",
      "   [ 44.  52.  11.]\n",
      "   ...\n",
      "   [234. 200. 162.]\n",
      "   [236. 206. 178.]\n",
      "   [234. 203. 174.]]\n",
      "\n",
      "  [[ 53.  59.  13.]\n",
      "   [ 43.  51.  10.]\n",
      "   [ 49.  56.  12.]\n",
      "   ...\n",
      "   [231. 195. 159.]\n",
      "   [235. 213. 190.]\n",
      "   [233. 206. 179.]]]]\n"
     ]
    }
   ],
   "source": [
    "test_image = test_image.reshape((1, ) + test_image.shape)   # This is a numpy array with shape (1, 64, 64, 3)\n",
    "#              OR\n",
    "# test_image = np.expand_dims(test_image, axis = 0)\n",
    "\n",
    "print(test_image.shape, '-------', test_image)"
   ]
  },
  {
   "cell_type": "code",
   "execution_count": 21,
   "metadata": {},
   "outputs": [
    {
     "name": "stdout",
     "output_type": "stream",
     "text": [
      "Label:  {'cats': 0, 'dogs': 1}\n",
      "It is:  DOG\n"
     ]
    }
   ],
   "source": [
    "result = classifier.predict(test_image)\n",
    "print(\"Label: \", training_set.class_indices)    # It is used to check Dog & Cat is label with 0 or 1.\n",
    "if result[0][0] == 1:\n",
    "    prediction = 'DOG'\n",
    "else:\n",
    "    prediction = 'CAT'\n",
    "    \n",
    "print(\"It is: \", prediction)"
   ]
  },
  {
   "cell_type": "code",
   "execution_count": 4,
   "metadata": {},
   "outputs": [
    {
     "name": "stdout",
     "output_type": "stream",
     "text": [
      "(64, 64, 3)\n"
     ]
    }
   ],
   "source": [
    "# Making a new prediction\n",
    "import numpy as np\n",
    "from keras.preprocessing import image\n",
    "import matplotlib.pyplot as plt\n",
    "\n",
    "org_image = image.load_img('dataset/single_prediction/Image1.jpg', target_size = (64, 64))\n",
    "# print(org_image.shape)\n",
    "\n",
    "test_image = image.img_to_array(org_image)\n",
    "print(test_image.shape)\n",
    "test_image = test_image.reshape((1, ) + test_image.shape)\n",
    "result = classifier.predict(test_image)\n",
    "training_set.class_indices\n",
    "if result[0][0] == 1:\n",
    "    prediction = 'DOG'\n",
    "else:\n",
    "    prediction = 'CAT'\n",
    "    \n",
    "plt.title(\"It is a {}\".format(prediction))\n",
    "plt.show(plt.imshow(org_image))"
   ]
  },
  {
   "cell_type": "code",
   "execution_count": 23,
   "metadata": {},
   "outputs": [
    {
     "data": {
      "image/png": "[encoded data removed]",
      "text/plain": [
       "<Figure size 432x288 with 1 Axes>"
      ]
     },
     "metadata": {
      "needs_background": "light"
     },
     "output_type": "display_data"
    }
   ],
   "source": [
    "org_image = image.load_img('dataset/single_prediction/Image2.jpg', target_size = (64, 64))\n",
    "\n",
    "test_image = image.img_to_array(org_image)\n",
    "test_image = test_image.reshape((1, ) + test_image.shape)\n",
    "result = classifier.predict(test_image)\n",
    "\n",
    "if result[0][0] == 1:\n",
    "    prediction = 'DOG'\n",
    "else:\n",
    "    prediction = 'CAT'\n",
    "    \n",
    "plt.title(\"It is a {}\".format(prediction))\n",
    "plt.show(plt.imshow(org_image))"
   ]
  },
  {
   "cell_type": "code",
   "execution_count": 17,
   "metadata": {},
   "outputs": [
    {
     "name": "stdout",
     "output_type": "stream",
     "text": [
      "<class 'keras.preprocessing.image.DirectoryIterator'>\n"
     ]
    }
   ],
   "source": [
    "print(type(test_set))"
   ]
  },
  {
   "cell_type": "code",
   "execution_count": null,
   "metadata": {},
   "outputs": [],
   "source": [
    "# import numpy as np\n",
    "# test_set = np.asarray(test_set)\n",
    "# print(test_set.shape)"
   ]
  },
  {
   "cell_type": "code",
   "execution_count": null,
   "metadata": {},
   "outputs": [],
   "source": []
  }
 ],
 "metadata": {
  "kernelspec": {
   "display_name": "Python 3",
   "language": "python",
   "name": "python3"
  },
  "language_info": {
   "codemirror_mode": {
    "name": "ipython",
    "version": 3
   },
   "file_extension": ".py",
   "mimetype": "text/x-python",
   "name": "python",
   "nbconvert_exporter": "python",
   "pygments_lexer": "ipython3",
   "version": "3.7.4"
  }
 },
 "nbformat": 4,
 "nbformat_minor": 2
}
